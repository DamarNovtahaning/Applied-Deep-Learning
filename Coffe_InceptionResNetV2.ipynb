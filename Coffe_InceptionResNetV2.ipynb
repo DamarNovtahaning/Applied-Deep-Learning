{
 "cells": [
  {
   "cell_type": "code",
   "execution_count": null,
   "id": "6b6212df-09ae-4ebc-8b38-8a91daf20160",
   "metadata": {},
   "outputs": [],
   "source": [
    "import os\n",
    "os.environ[\"CUDA_DEVICE_ORDER\"]=\"PCI_BUS_ID\"   # see issue #152\n",
    "os.environ[\"CUDA_VISIBLE_DEVICES\"]=\"7\""
   ]
  },
  {
   "cell_type": "code",
   "execution_count": null,
   "id": "d0d8f6e4-f581-43c0-b375-f3a6b1b0674c",
   "metadata": {},
   "outputs": [],
   "source": [
    "import cv2\n",
    "from PIL import  Image\n",
    "import numpy as np"
   ]
  },
  {
   "cell_type": "code",
   "execution_count": null,
   "id": "a3e6f799-fd93-48d8-9b64-0b5c00e10f69",
   "metadata": {},
   "outputs": [],
   "source": [
    "image_directory = '/data1/hom1/ict13/Coffee Plant Dataset/'\n",
    "\n",
    "dataset=[]\n",
    "label=[]\n",
    "\n",
    "Cerscospora = os.listdir('/data1/hom1/ict13/Coffee Plant Dataset/Cerscospora')\n",
    "Healthy = os.listdir('/data1/hom1/ict13/Coffee Plant Dataset/Healthy')\n",
    "Miner = os.listdir('/data1/hom1/ict13/Coffee Plant Dataset/Miner')\n",
    "Phoma = os.listdir('/data1/hom1/ict13/Coffee Plant Dataset/Phoma')\n",
    "Rust = os.listdir('/data1/hom1/ict13/Coffee Plant Dataset/Rust')"
   ]
  },
  {
   "cell_type": "code",
   "execution_count": null,
   "id": "2c91f985-417e-4db4-bc25-1c4f80484116",
   "metadata": {},
   "outputs": [],
   "source": [
    "for i , image_name in enumerate(Cerscospora):\n",
    "  if(image_name.split('.')[1]== 'jpg'):\n",
    "          image=cv2.imread(os.path.join(image_directory, 'Cerscospora/', image_name))\n",
    "          image=Image.fromarray(image, 'RGB')\n",
    "          image=image.resize((224,224))\n",
    "          dataset.append(np.array(image))\n",
    "          label.append(0)"
   ]
  },
  {
   "cell_type": "code",
   "execution_count": null,
   "id": "aafcf4f7-8097-4d1e-b57e-37bef08855d6",
   "metadata": {},
   "outputs": [],
   "source": [
    "for i , image_name in enumerate(Healthy):\n",
    "  if(image_name.split('.')[1]== 'jpg'):\n",
    "      image=cv2.imread(os.path.join(image_directory, 'Healthy/', image_name))\n",
    "      image=Image.fromarray(image, 'RGB')\n",
    "      image=image.resize((224,224))\n",
    "      dataset.append(np.array(image))\n",
    "      label.append(1)"
   ]
  },
  {
   "cell_type": "code",
   "execution_count": null,
   "id": "053bb155-6a4b-443e-a048-7ca94bc9958d",
   "metadata": {},
   "outputs": [],
   "source": [
    "for i , image_name in enumerate(Miner):\n",
    "  if(image_name.split('.')[1]== 'jpg'):\n",
    "      image=cv2.imread(os.path.join(image_directory,'Miner/',image_name))\n",
    "      image=Image.fromarray(image, 'RGB')\n",
    "      image=image.resize((224,224))\n",
    "      dataset.append(np.array(image))\n",
    "      label.append(2)"
   ]
  },
  {
   "cell_type": "code",
   "execution_count": null,
   "id": "92b7f4e5-c4e6-4d0a-b018-7504fba94602",
   "metadata": {},
   "outputs": [],
   "source": [
    "for i , image_name in enumerate(Phoma):\n",
    "  if(image_name.split('.')[1]== 'jpg'):\n",
    "      image=cv2.imread(os.path.join(image_directory, 'Phoma/', image_name))\n",
    "      image=Image.fromarray(image, 'RGB')\n",
    "      image=image.resize((224,224))\n",
    "      dataset.append(np.array(image))\n",
    "      label.append(3)"
   ]
  },
  {
   "cell_type": "code",
   "execution_count": null,
   "id": "b48a5df5-52c4-488f-8a90-cbe26213594a",
   "metadata": {},
   "outputs": [],
   "source": [
    "for i , image_name in enumerate(Rust):\n",
    "  if(image_name.split('.')[1]== 'jpg'):\n",
    "      image=cv2.imread(os.path.join(image_directory, 'Rust/', image_name))\n",
    "      image=Image.fromarray(image, 'RGB')\n",
    "      image=image.resize((224,224))\n",
    "      dataset.append(np.array(image))\n",
    "      label.append(4)"
   ]
  },
  {
   "cell_type": "code",
   "execution_count": null,
   "id": "6108e26f-6169-42a1-8871-7577b2e0d9dd",
   "metadata": {},
   "outputs": [],
   "source": [
    "print(len(dataset))\n",
    "print(len(label))\n",
    "dataset=np.array(dataset)\n",
    "label=np.array(label)"
   ]
  },
  {
   "cell_type": "code",
   "execution_count": null,
   "id": "b821d425-ddcb-45c8-99d7-04e1a29fbf6d",
   "metadata": {},
   "outputs": [],
   "source": [
    "from sklearn.model_selection import train_test_split\n",
    "\n",
    "x_train, x_test, y_train, y_test=train_test_split(dataset, label, test_size=0.2, random_state=0)\n",
    "print(x_train.shape)\n",
    "print(x_test.shape)\n",
    "print(y_train.shape)\n",
    "print(y_test.shape)"
   ]
  },
  {
   "cell_type": "code",
   "execution_count": null,
   "id": "484fd6fb-7467-46f7-862e-a86be31aa0fd",
   "metadata": {},
   "outputs": [],
   "source": [
    "import tensorflow as tf\n",
    "from tensorflow import keras\n",
    "from keras.utils.np_utils import normalize\n",
    "x_train= normalize(x_train, axis=1)\n",
    "x_test = normalize(x_test, axis=1)"
   ]
  },
  {
   "cell_type": "code",
   "execution_count": null,
   "id": "a5bb43d6-a6f4-4bac-9eae-face2ced3784",
   "metadata": {},
   "outputs": [],
   "source": [
    "from tensorflow.keras.applications.inception_resnet_v2 import InceptionResNetV2\n",
    "inc=InceptionResNetV2(input_shape=(224,224,3), weights='imagenet', include_top=False)"
   ]
  },
  {
   "cell_type": "code",
   "execution_count": null,
   "id": "0eef47cc-7577-4263-9477-ab69489ba32f",
   "metadata": {},
   "outputs": [],
   "source": [
    "from tensorflow.keras.layers import Flatten\n",
    "from tensorflow.keras.layers import Dense\n",
    "\n",
    "\n",
    "for i in inc.layers:\n",
    "  i.trainable=False\n",
    "\n",
    "x=Flatten()(inc.output)\n",
    "prediction=Dense(5, activation='softmax')(x)"
   ]
  },
  {
   "cell_type": "code",
   "execution_count": null,
   "id": "94c05375-d39f-4304-b9b6-a1571d20e1ab",
   "metadata": {},
   "outputs": [],
   "source": [
    "from tensorflow.keras.models import Model\n",
    "model=Model(inputs=inc.input, outputs=prediction)"
   ]
  },
  {
   "cell_type": "code",
   "execution_count": null,
   "id": "4ef90875-13f9-4323-b710-0b22f8e40073",
   "metadata": {},
   "outputs": [],
   "source": [
    "from tensorflow.keras.optimizers import SGD\n",
    "from tensorflow.keras.optimizers import Adam\n",
    "\n",
    "learn_rate=.005\n",
    "\n",
    "sgd=SGD(learning_rate=learn_rate,momentum=.9,nesterov=False)"
   ]
  },
  {
   "cell_type": "code",
   "execution_count": null,
   "id": "2b0afb18-bdff-4bfd-bc0f-2d428be703be",
   "metadata": {},
   "outputs": [],
   "source": [
    "model.compile(optimizer=sgd, loss='sparse_categorical_crossentropy', metrics=['accuracy'])"
   ]
  },
  {
   "cell_type": "code",
   "execution_count": null,
   "id": "31d59cb0-e46c-4771-ba73-a0b9e5d052ca",
   "metadata": {},
   "outputs": [],
   "source": [
    "hist=model.fit(x_train, y_train, batch_size=32, \n",
    "               verbose=1, epochs=50, \n",
    "               validation_data=(x_test,y_test), shuffle=False)\n",
    "\n",
    "model.save('/data1/hom1/ict13/Coffee Plant Dataset/Models/vgg_coffee.h5')"
   ]
  },
  {
   "cell_type": "code",
   "execution_count": null,
   "id": "f1fc7ef0-9652-4c51-acaa-43ee3a8d91f8",
   "metadata": {},
   "outputs": [],
   "source": [
    "import pandas as pd\n",
    "import matplotlib.pyplot as plt\n",
    "metrics = pd.DataFrame(model.history.history)"
   ]
  },
  {
   "cell_type": "code",
   "execution_count": null,
   "id": "eff1358a-7339-431a-bcb8-6e42b423ea18",
   "metadata": {},
   "outputs": [],
   "source": [
    "metrics[['accuracy', 'val_accuracy']].plot()\n",
    "plt.title(\"Model Accuracy\")\n",
    "plt.ylabel(\"Accuracy\")\n",
    "plt.xlabel(\"Epoch\")"
   ]
  },
  {
   "cell_type": "code",
   "execution_count": null,
   "id": "192c720e-9d49-49ff-b5a1-088ede079f2c",
   "metadata": {},
   "outputs": [],
   "source": [
    "metrics[['loss', 'val_loss']].plot()\n",
    "plt.title(\"Model Loss\")\n",
    "plt.ylabel(\"loss\")\n",
    "plt.xlabel(\"Epoch\")"
   ]
  },
  {
   "cell_type": "code",
   "execution_count": null,
   "id": "557f12a6-7cb9-48c4-8337-42dacc412337",
   "metadata": {},
   "outputs": [],
   "source": []
  }
 ],
 "metadata": {
  "kernelspec": {
   "display_name": "Tensorflow 2.4 | Jupyterhub",
   "language": "python",
   "name": "jupyter-tf2"
  },
  "language_info": {
   "codemirror_mode": {
    "name": "ipython",
    "version": 3
   },
   "file_extension": ".py",
   "mimetype": "text/x-python",
   "name": "python",
   "nbconvert_exporter": "python",
   "pygments_lexer": "ipython3",
   "version": "3.8.10"
  }
 },
 "nbformat": 4,
 "nbformat_minor": 5
}
